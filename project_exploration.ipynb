{
 "cells": [
  {
   "cell_type": "code",
   "execution_count": null,
   "id": "914b2809-6da4-4b61-a5f5-755bb4f08e08",
   "metadata": {},
   "outputs": [],
   "source": [
    "#This is my final project scrap notebook that will allow me to build a weather app for my final project"
   ]
  }
 ],
 "metadata": {
  "kernelspec": {
   "display_name": "Python 3 (ipykernel)",
   "language": "python",
   "name": "python3"
  },
  "language_info": {
   "codemirror_mode": {
    "name": "ipython",
    "version": 3
   },
   "file_extension": ".py",
   "mimetype": "text/x-python",
   "name": "python",
   "nbconvert_exporter": "python",
   "pygments_lexer": "ipython3",
   "version": "3.12.4"
  }
 },
 "nbformat": 4,
 "nbformat_minor": 5
}
